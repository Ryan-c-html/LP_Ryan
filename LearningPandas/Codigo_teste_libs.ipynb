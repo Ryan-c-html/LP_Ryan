{
 "cells": [
  {
   "cell_type": "markdown",
   "metadata": {},
   "source": [
    "# Código para testar as libs com o jupyter"
   ]
  },
  {
   "cell_type": "code",
   "execution_count": 2,
   "metadata": {},
   "outputs": [
    {
     "data": {
      "text/html": [
       "<div>\n",
       "<style scoped>\n",
       "    .dataframe tbody tr th:only-of-type {\n",
       "        vertical-align: middle;\n",
       "    }\n",
       "\n",
       "    .dataframe tbody tr th {\n",
       "        vertical-align: top;\n",
       "    }\n",
       "\n",
       "    .dataframe thead th {\n",
       "        text-align: right;\n",
       "    }\n",
       "</style>\n",
       "<table border=\"1\" class=\"dataframe\">\n",
       "  <thead>\n",
       "    <tr style=\"text-align: right;\">\n",
       "      <th></th>\n",
       "      <th>Novas</th>\n",
       "      <th>Antigas</th>\n",
       "    </tr>\n",
       "  </thead>\n",
       "  <tbody>\n",
       "    <tr>\n",
       "      <th>Muito Boas</th>\n",
       "      <td>Greys Anatomy</td>\n",
       "      <td>PLL</td>\n",
       "    </tr>\n",
       "    <tr>\n",
       "      <th>Boas</th>\n",
       "      <td>Lost</td>\n",
       "      <td>TVD</td>\n",
       "    </tr>\n",
       "    <tr>\n",
       "      <th>Medias</th>\n",
       "      <td>Supernatural</td>\n",
       "      <td>Friends</td>\n",
       "    </tr>\n",
       "    <tr>\n",
       "      <th>Ruins</th>\n",
       "      <td>The Big Bang Theory</td>\n",
       "      <td>Game of Thrones</td>\n",
       "    </tr>\n",
       "  </tbody>\n",
       "</table>\n",
       "</div>"
      ],
      "text/plain": [
       "                          Novas          Antigas\n",
       "Muito Boas        Greys Anatomy              PLL\n",
       "Boas                       Lost              TVD\n",
       "Medias             Supernatural          Friends\n",
       "Ruins       The Big Bang Theory  Game of Thrones"
      ]
     },
     "execution_count": 2,
     "metadata": {},
     "output_type": "execute_result"
    }
   ],
   "source": [
    "import numpy as np\n",
    "import pandas as pd\n",
    "import matplotlib.pyplot as plt\n",
    "import seaborn as sns\n",
    "%matplotlib inline\n",
    "\n",
    "data = {'Novas': ['Greys Anatomy', 'Lost', 'Supernatural', 'The Big Bang Theory'],'Antigas': ['PLL', 'TVD', 'Friends', 'Game of Thrones']}\n",
    "\n",
    "df = pd.DataFrame(data, index=['Muito Boas', 'Boas', 'Medias', 'Ruins'], columns=['Novas', 'Antigas'])\n",
    "\n",
    "df"
   ]
  },
  {
   "cell_type": "markdown",
   "metadata": {},
   "source": [
    "# 1. "
   ]
  }
 ],
 "metadata": {
  "kernelspec": {
   "display_name": "Python 3",
   "language": "python",
   "name": "python3"
  },
  "language_info": {
   "codemirror_mode": {
    "name": "ipython",
    "version": 3
   },
   "file_extension": ".py",
   "mimetype": "text/x-python",
   "name": "python",
   "nbconvert_exporter": "python",
   "pygments_lexer": "ipython3",
   "version": "3.11.7"
  }
 },
 "nbformat": 4,
 "nbformat_minor": 2
}
